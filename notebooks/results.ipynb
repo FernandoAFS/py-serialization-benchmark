{
 "cells": [
  {
   "cell_type": "code",
   "execution_count": 36,
   "metadata": {},
   "outputs": [],
   "source": [
    "import json\n",
    "from matplotlib import pyplot\n",
    "import seaborn as sns\n",
    "import pathlib\n",
    "import pandas as pd\n",
    "import seaborn as sns"
   ]
  },
  {
   "cell_type": "code",
   "execution_count": 37,
   "metadata": {},
   "outputs": [],
   "source": [
    "sns.set_theme()"
   ]
  },
  {
   "cell_type": "code",
   "execution_count": 38,
   "metadata": {},
   "outputs": [],
   "source": [
    "BENCH_RES = pathlib.Path(\"../bench-res.json\")\n",
    "\n",
    "if not BENCH_RES.is_file():\n",
    "    raise ValueError(f\"Cannot find input {BENCH_RES}\")"
   ]
  },
  {
   "cell_type": "code",
   "execution_count": 39,
   "metadata": {},
   "outputs": [],
   "source": [
    "def load_json():\n",
    "    with BENCH_RES.open() as f:\n",
    "        return json.loads(f.read())\n",
    "\n",
    "bench_data = load_json()"
   ]
  },
  {
   "cell_type": "code",
   "execution_count": 40,
   "metadata": {},
   "outputs": [
    {
     "data": {
      "text/plain": [
       "dict_keys(['machine_info', 'commit_info', 'benchmarks', 'datetime', 'version'])"
      ]
     },
     "execution_count": 40,
     "metadata": {},
     "output_type": "execute_result"
    }
   ],
   "source": [
    "bench_data.keys()"
   ]
  },
  {
   "cell_type": "code",
   "execution_count": 41,
   "metadata": {},
   "outputs": [
    {
     "data": {
      "text/plain": [
       "{'min': 0.10807583999985582,\n",
       " 'max': 0.1180534339996484,\n",
       " 'mean': 0.11061538422220313,\n",
       " 'stddev': 0.002987717604110428,\n",
       " 'rounds': 9,\n",
       " 'median': 0.11059227499981716,\n",
       " 'iqr': 0.0019685389999040126,\n",
       " 'q1': 0.10878381975021512,\n",
       " 'q3': 0.11075235875011913,\n",
       " 'iqr_outliers': 1,\n",
       " 'stddev_outliers': 1,\n",
       " 'outliers': '1;1',\n",
       " 'ld15iqr': 0.10807583999985582,\n",
       " 'hd15iqr': 0.1180534339996484,\n",
       " 'ops': 9.040333829073989,\n",
       " 'total': 0.9955384579998281,\n",
       " 'data': [0.1180534339996484,\n",
       "  0.1107496610002272,\n",
       "  0.11074902000018483,\n",
       "  0.11059227499981716,\n",
       "  0.1107604519997949,\n",
       "  0.10807583999985582,\n",
       "  0.10888576400020611,\n",
       "  0.10847798700024214,\n",
       "  0.10919402499985154],\n",
       " 'iterations': 1}"
      ]
     },
     "execution_count": 41,
     "metadata": {},
     "output_type": "execute_result"
    }
   ],
   "source": [
    "bench_data[\"benchmarks\"][0][\"stats\"]"
   ]
  },
  {
   "cell_type": "code",
   "execution_count": 42,
   "metadata": {},
   "outputs": [
    {
     "data": {
      "text/plain": [
       "[0.002987717604110428,\n",
       " 0.0012909883566628224,\n",
       " 0.01377333250863117,\n",
       " 0.0010390322314055415,\n",
       " 0.003477987729600917,\n",
       " 0.003499611508056031,\n",
       " 0.0021209697683207446,\n",
       " 0.001072544918699351,\n",
       " 0.0005058609392844319,\n",
       " 0.05794823702139052]"
      ]
     },
     "execution_count": 42,
     "metadata": {},
     "output_type": "execute_result"
    }
   ],
   "source": [
    "# CHECK THAT THE STANDARD DESIVATIONS ARE VERY VERY LOW.\n",
    "def get_stdevs():\n",
    "    for bench in bench_data[\"benchmarks\"]:\n",
    "        yield bench[\"stats\"][\"stddev\"]\n",
    "list(get_stdevs())"
   ]
  },
  {
   "cell_type": "code",
   "execution_count": 43,
   "metadata": {},
   "outputs": [
    {
     "data": {
      "text/plain": [
       "['serialize_json',\n",
       " 'deserialize_json',\n",
       " 'serialize_pickle',\n",
       " 'deserialize_pickle',\n",
       " 'serialize_msgpack',\n",
       " 'deserialize_msgpack',\n",
       " 'serialize_pb',\n",
       " 'deserialize_pb',\n",
       " 'serialize_pyrobuf',\n",
       " 'deserialize_pyrobuf']"
      ]
     },
     "execution_count": 43,
     "metadata": {},
     "output_type": "execute_result"
    }
   ],
   "source": [
    "def get_names():\n",
    "    for bench in bench_data[\"benchmarks\"]:\n",
    "        yield (\n",
    "            bench[\"name\"]\n",
    "            .removeprefix(\"test_\")\n",
    "            .removesuffix(\"[100000]\")\n",
    "            .removesuffix(\"[100000]\")\n",
    "        )\n",
    "list(get_names())"
   ]
  },
  {
   "cell_type": "code",
   "execution_count": 44,
   "metadata": {},
   "outputs": [
    {
     "data": {
      "text/plain": [
       "[0.11061538422220313,\n",
       " 0.1359939523750313,\n",
       " 0.09732019708330124,\n",
       " 0.08574443025008804,\n",
       " 0.05696188361106477,\n",
       " 0.08937633058330145,\n",
       " 0.024726555176464576,\n",
       " 0.006163690673673428,\n",
       " 0.07047561676913225,\n",
       " 0.09401437138460376]"
      ]
     },
     "execution_count": 44,
     "metadata": {},
     "output_type": "execute_result"
    }
   ],
   "source": [
    "def get_means():\n",
    "    for bench in bench_data[\"benchmarks\"]:\n",
    "        yield bench[\"stats\"][\"mean\"]\n",
    "list(get_means())"
   ]
  },
  {
   "cell_type": "code",
   "execution_count": 45,
   "metadata": {},
   "outputs": [
    {
     "data": {
      "text/html": [
       "<div>\n",
       "<style scoped>\n",
       "    .dataframe tbody tr th:only-of-type {\n",
       "        vertical-align: middle;\n",
       "    }\n",
       "\n",
       "    .dataframe tbody tr th {\n",
       "        vertical-align: top;\n",
       "    }\n",
       "\n",
       "    .dataframe thead th {\n",
       "        text-align: right;\n",
       "    }\n",
       "</style>\n",
       "<table border=\"1\" class=\"dataframe\">\n",
       "  <thead>\n",
       "    <tr style=\"text-align: right;\">\n",
       "      <th></th>\n",
       "      <th>name</th>\n",
       "      <th>std</th>\n",
       "      <th>mean</th>\n",
       "      <th>serialize</th>\n",
       "    </tr>\n",
       "  </thead>\n",
       "  <tbody>\n",
       "    <tr>\n",
       "      <th>7</th>\n",
       "      <td>protobuf</td>\n",
       "      <td>0.001073</td>\n",
       "      <td>0.006164</td>\n",
       "      <td>False</td>\n",
       "    </tr>\n",
       "    <tr>\n",
       "      <th>6</th>\n",
       "      <td>protobuf</td>\n",
       "      <td>0.002121</td>\n",
       "      <td>0.024727</td>\n",
       "      <td>True</td>\n",
       "    </tr>\n",
       "    <tr>\n",
       "      <th>4</th>\n",
       "      <td>msgpack</td>\n",
       "      <td>0.003478</td>\n",
       "      <td>0.056962</td>\n",
       "      <td>True</td>\n",
       "    </tr>\n",
       "    <tr>\n",
       "      <th>8</th>\n",
       "      <td>pyrobuf</td>\n",
       "      <td>0.000506</td>\n",
       "      <td>0.070476</td>\n",
       "      <td>True</td>\n",
       "    </tr>\n",
       "    <tr>\n",
       "      <th>3</th>\n",
       "      <td>pickle</td>\n",
       "      <td>0.001039</td>\n",
       "      <td>0.085744</td>\n",
       "      <td>False</td>\n",
       "    </tr>\n",
       "    <tr>\n",
       "      <th>5</th>\n",
       "      <td>msgpack</td>\n",
       "      <td>0.003500</td>\n",
       "      <td>0.089376</td>\n",
       "      <td>False</td>\n",
       "    </tr>\n",
       "    <tr>\n",
       "      <th>9</th>\n",
       "      <td>pyrobuf</td>\n",
       "      <td>0.057948</td>\n",
       "      <td>0.094014</td>\n",
       "      <td>False</td>\n",
       "    </tr>\n",
       "    <tr>\n",
       "      <th>2</th>\n",
       "      <td>pickle</td>\n",
       "      <td>0.013773</td>\n",
       "      <td>0.097320</td>\n",
       "      <td>True</td>\n",
       "    </tr>\n",
       "    <tr>\n",
       "      <th>0</th>\n",
       "      <td>json</td>\n",
       "      <td>0.002988</td>\n",
       "      <td>0.110615</td>\n",
       "      <td>True</td>\n",
       "    </tr>\n",
       "    <tr>\n",
       "      <th>1</th>\n",
       "      <td>json</td>\n",
       "      <td>0.001291</td>\n",
       "      <td>0.135994</td>\n",
       "      <td>False</td>\n",
       "    </tr>\n",
       "  </tbody>\n",
       "</table>\n",
       "</div>"
      ],
      "text/plain": [
       "       name       std      mean  serialize\n",
       "7  protobuf  0.001073  0.006164      False\n",
       "6  protobuf  0.002121  0.024727       True\n",
       "4   msgpack  0.003478  0.056962       True\n",
       "8   pyrobuf  0.000506  0.070476       True\n",
       "3    pickle  0.001039  0.085744      False\n",
       "5   msgpack  0.003500  0.089376      False\n",
       "9   pyrobuf  0.057948  0.094014      False\n",
       "2    pickle  0.013773  0.097320       True\n",
       "0      json  0.002988  0.110615       True\n",
       "1      json  0.001291  0.135994      False"
      ]
     },
     "execution_count": 45,
     "metadata": {},
     "output_type": "execute_result"
    }
   ],
   "source": [
    "df = (\n",
    "        pd.DataFrame({\n",
    "        \"name\": get_names(),\n",
    "        \"std\": get_stdevs(),\n",
    "        \"mean\": get_means(),\n",
    "    })\n",
    "    .assign(\n",
    "        serialize=lambda df_: ~df_[\"name\"].str.contains(\"deserialize\"),\n",
    "        name=lambda df_: df_[\"name\"].str.removeprefix(\"deserialize_\").str.removeprefix(\"serialize_\"),\n",
    "    )\n",
    "    .assign(\n",
    "        name=lambda df_: df_[\"name\"].mask(lambda s_: s_ == \"pb\", \"protobuf\")\n",
    "    )\n",
    "    .sort_values(\"mean\")\n",
    ")\n",
    "df"
   ]
  },
  {
   "cell_type": "code",
   "execution_count": 46,
   "metadata": {},
   "outputs": [
    {
     "data": {
      "text/plain": [
       "Index(['json', 'msgpack', 'pickle', 'protobuf', 'pyrobuf'], dtype='object', name='type')"
      ]
     },
     "execution_count": 46,
     "metadata": {},
     "output_type": "execute_result"
    }
   ],
   "source": [
    "df.pivot(index=\"name\", columns=\"serialize\", values=\"mean\").index.rename(\"type\")"
   ]
  },
  {
   "cell_type": "code",
   "execution_count": 47,
   "metadata": {},
   "outputs": [
    {
     "data": {
      "text/plain": [
       "<Axes: title={'center': 'Mean serialization/deserialization time for 100k messages'}, xlabel='name'>"
      ]
     },
     "execution_count": 47,
     "metadata": {},
     "output_type": "execute_result"
    },
    {
     "data": {
      "image/png": "[encoded data removed]",
      "text/plain": [
       "<Figure size 1000x500 with 1 Axes>"
      ]
     },
     "metadata": {},
     "output_type": "display_data"
    }
   ],
   "source": [
    "def show_plot_res():\n",
    "    return (\n",
    "        df\n",
    "        .loc[lambda df_: df_[\"name\"] != \"pyrobuf\"]\n",
    "        .pivot(index=\"name\", columns=\"serialize\", values=\"mean\")\n",
    "        .rename(columns={True: \"serialize\", False: \"deserialize\"})\n",
    "        .rename_axis(columns={\"serialize\": \"type\"})\n",
    "        .sort_values(\"serialize\", ascending=False)\n",
    "        .plot.bar(\n",
    "            title=\"Mean serialization/deserialization time for 100k messages\",\n",
    "            figsize=(10, 5),\n",
    "        )\n",
    "    )\n",
    "\n",
    "show_plot_res()"
   ]
  },
  {
   "cell_type": "code",
   "execution_count": 48,
   "metadata": {},
   "outputs": [
    {
     "name": "stdout",
     "output_type": "stream",
     "text": [
      "| name     |   deserialize |   serialize |\n",
      "|:---------|--------------:|------------:|\n",
      "| json     |    0.135994   |   0.110615  |\n",
      "| msgpack  |    0.0893763  |   0.0569619 |\n",
      "| pickle   |    0.0857444  |   0.0973202 |\n",
      "| protobuf |    0.00616369 |   0.0247266 |\n"
     ]
    }
   ],
   "source": [
    "print(\n",
    "    df\n",
    "    .loc[lambda df_: df_[\"name\"] != \"pyrobuf\"]\n",
    "    .pivot(index=\"name\", columns=\"serialize\", values=\"mean\")\n",
    "    .rename(columns={True: \"serialize\", False: \"deserialize\"})\n",
    "    .to_markdown()\n",
    ")"
   ]
  },
  {
   "cell_type": "code",
   "execution_count": null,
   "metadata": {},
   "outputs": [],
   "source": []
  }
 ],
 "metadata": {
  "kernelspec": {
   "display_name": ".venv",
   "language": "python",
   "name": "python3"
  },
  "language_info": {
   "codemirror_mode": {
    "name": "ipython",
    "version": 3
   },
   "file_extension": ".py",
   "mimetype": "text/x-python",
   "name": "python",
   "nbconvert_exporter": "python",
   "pygments_lexer": "ipython3",
   "version": "3.13.1"
  }
 },
 "nbformat": 4,
 "nbformat_minor": 2
}
