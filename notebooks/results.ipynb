{
 "cells": [
  {
   "cell_type": "code",
   "execution_count": 109,
   "metadata": {},
   "outputs": [],
   "source": [
    "import json\n",
    "from matplotlib import pyplot\n",
    "import seaborn as sns\n",
    "import pathlib\n",
    "import pandas as pd\n",
    "import seaborn as sns"
   ]
  },
  {
   "cell_type": "code",
   "execution_count": 110,
   "metadata": {},
   "outputs": [],
   "source": [
    "sns.set_theme()"
   ]
  },
  {
   "cell_type": "code",
   "execution_count": 20,
   "metadata": {},
   "outputs": [],
   "source": [
    "BENCH_RES = pathlib.Path(\"../bench-res.json\")\n",
    "\n",
    "if not BENCH_RES.is_file():\n",
    "    raise ValueError(f\"Cannot find input {BENCH_RES}\")"
   ]
  },
  {
   "cell_type": "code",
   "execution_count": 21,
   "metadata": {},
   "outputs": [],
   "source": [
    "def load_json():\n",
    "    with BENCH_RES.open() as f:\n",
    "        return json.loads(f.read())\n",
    "\n",
    "bench_data = load_json()"
   ]
  },
  {
   "cell_type": "code",
   "execution_count": 22,
   "metadata": {},
   "outputs": [
    {
     "data": {
      "text/plain": [
       "dict_keys(['machine_info', 'commit_info', 'benchmarks', 'datetime', 'version'])"
      ]
     },
     "execution_count": 22,
     "metadata": {},
     "output_type": "execute_result"
    }
   ],
   "source": [
    "bench_data.keys()"
   ]
  },
  {
   "cell_type": "code",
   "execution_count": 23,
   "metadata": {},
   "outputs": [
    {
     "data": {
      "text/plain": [
       "{'min': 0.22130831200047396,\n",
       " 'max': 0.2491278119996423,\n",
       " 'mean': 0.22824300559877883,\n",
       " 'stddev': 0.011828674310503719,\n",
       " 'rounds': 5,\n",
       " 'median': 0.22342896200279938,\n",
       " 'iqr': 0.010391173998868908,\n",
       " 'q1': 0.22136515674719703,\n",
       " 'q3': 0.23175633074606594,\n",
       " 'iqr_outliers': 1,\n",
       " 'stddev_outliers': 1,\n",
       " 'outliers': '1;1',\n",
       " 'ld15iqr': 0.22130831200047396,\n",
       " 'hd15iqr': 0.2491278119996423,\n",
       " 'ops': 4.381295266317463,\n",
       " 'total': 1.1412150279938942,\n",
       " 'data': [0.22342896200279938,\n",
       "  0.22138410499610472,\n",
       "  0.22596583699487383,\n",
       "  0.22130831200047396,\n",
       "  0.2491278119996423],\n",
       " 'iterations': 1}"
      ]
     },
     "execution_count": 23,
     "metadata": {},
     "output_type": "execute_result"
    }
   ],
   "source": [
    "bench_data[\"benchmarks\"][0][\"stats\"]"
   ]
  },
  {
   "cell_type": "code",
   "execution_count": 24,
   "metadata": {},
   "outputs": [
    {
     "data": {
      "text/plain": [
       "[0.011828674310503719,\n",
       " 0.016047418408410157,\n",
       " 0.006855542523019015,\n",
       " 0.022801606519592295,\n",
       " 0.005281317420243534,\n",
       " 0.0027763024259678413,\n",
       " 0.00446410186335327,\n",
       " 0.2722162855473112]"
      ]
     },
     "execution_count": 24,
     "metadata": {},
     "output_type": "execute_result"
    }
   ],
   "source": [
    "# CHECK THAT THE STANDARD DESIVATIONS ARE VERY VERY LOW.\n",
    "def get_stdevs():\n",
    "    for bench in bench_data[\"benchmarks\"]:\n",
    "        yield bench[\"stats\"][\"stddev\"]\n",
    "list(get_stdevs())"
   ]
  },
  {
   "cell_type": "code",
   "execution_count": 42,
   "metadata": {},
   "outputs": [
    {
     "data": {
      "text/plain": [
       "['serialize_json',\n",
       " 'deserialize_json',\n",
       " 'serialize_msgpack',\n",
       " 'deserialize_msgpack',\n",
       " 'serialize_pb',\n",
       " 'deserialize_pb',\n",
       " 'serialize_pyrobuf',\n",
       " 'deserialize_pyrobuf']"
      ]
     },
     "execution_count": 42,
     "metadata": {},
     "output_type": "execute_result"
    }
   ],
   "source": [
    "def get_names():\n",
    "    for bench in bench_data[\"benchmarks\"]:\n",
    "        yield (\n",
    "            bench[\"name\"]\n",
    "            .removeprefix(\"test_\")\n",
    "            .removesuffix(\"[100000]\")\n",
    "            .removesuffix(\"[100000]\")\n",
    "        )\n",
    "list(get_names())"
   ]
  },
  {
   "cell_type": "code",
   "execution_count": 45,
   "metadata": {},
   "outputs": [
    {
     "data": {
      "text/plain": [
       "[0.22824300559877883,\n",
       " 0.26684772839798826,\n",
       " 0.1121280746665434,\n",
       " 0.18519669916592343,\n",
       " 0.05472581010035356,\n",
       " 0.014984651558033427,\n",
       " 0.14152697866544864,\n",
       " 0.2757234983340216]"
      ]
     },
     "execution_count": 45,
     "metadata": {},
     "output_type": "execute_result"
    }
   ],
   "source": [
    "def get_means():\n",
    "    for bench in bench_data[\"benchmarks\"]:\n",
    "        yield bench[\"stats\"][\"mean\"]\n",
    "list(get_means())"
   ]
  },
  {
   "cell_type": "code",
   "execution_count": null,
   "metadata": {},
   "outputs": [
    {
     "data": {
      "text/html": [
       "<div>\n",
       "<style scoped>\n",
       "    .dataframe tbody tr th:only-of-type {\n",
       "        vertical-align: middle;\n",
       "    }\n",
       "\n",
       "    .dataframe tbody tr th {\n",
       "        vertical-align: top;\n",
       "    }\n",
       "\n",
       "    .dataframe thead th {\n",
       "        text-align: right;\n",
       "    }\n",
       "</style>\n",
       "<table border=\"1\" class=\"dataframe\">\n",
       "  <thead>\n",
       "    <tr style=\"text-align: right;\">\n",
       "      <th>serialize</th>\n",
       "      <th>False</th>\n",
       "      <th>True</th>\n",
       "    </tr>\n",
       "    <tr>\n",
       "      <th>name</th>\n",
       "      <th></th>\n",
       "      <th></th>\n",
       "    </tr>\n",
       "  </thead>\n",
       "  <tbody>\n",
       "    <tr>\n",
       "      <th>json</th>\n",
       "      <td>0.266848</td>\n",
       "      <td>0.228243</td>\n",
       "    </tr>\n",
       "    <tr>\n",
       "      <th>msgpack</th>\n",
       "      <td>0.185197</td>\n",
       "      <td>0.112128</td>\n",
       "    </tr>\n",
       "    <tr>\n",
       "      <th>protobuf</th>\n",
       "      <td>0.014985</td>\n",
       "      <td>0.054726</td>\n",
       "    </tr>\n",
       "    <tr>\n",
       "      <th>pyrobuf</th>\n",
       "      <td>0.275723</td>\n",
       "      <td>0.141527</td>\n",
       "    </tr>\n",
       "  </tbody>\n",
       "</table>\n",
       "</div>"
      ],
      "text/plain": [
       "serialize     False     True \n",
       "name                         \n",
       "json       0.266848  0.228243\n",
       "msgpack    0.185197  0.112128\n",
       "protobuf   0.014985  0.054726\n",
       "pyrobuf    0.275723  0.141527"
      ]
     },
     "execution_count": 77,
     "metadata": {},
     "output_type": "execute_result"
    }
   ],
   "source": [
    "df = (\n",
    "        pd.DataFrame({\n",
    "        \"name\": get_names(),\n",
    "        \"std\": get_stdevs(),\n",
    "        \"mean\": get_means(),\n",
    "    })\n",
    "    .assign(\n",
    "        serialize=lambda df_: ~df_[\"name\"].str.contains(\"deserialize\"),\n",
    "        name=lambda df_: df_[\"name\"].str.removeprefix(\"deserialize_\").str.removeprefix(\"serialize_\"),\n",
    "    )\n",
    "    .assign(\n",
    "        name=lambda df_: df_[\"name\"].mask(lambda s_: s_ == \"pb\", \"protobuf\")\n",
    "    )\n",
    "    .sort_values(\"mean\")\n",
    ")\n",
    "df"
   ]
  },
  {
   "cell_type": "code",
   "execution_count": 89,
   "metadata": {},
   "outputs": [
    {
     "data": {
      "text/plain": [
       "Index(['json', 'msgpack', 'protobuf', 'pyrobuf'], dtype='object', name='type')"
      ]
     },
     "execution_count": 89,
     "metadata": {},
     "output_type": "execute_result"
    }
   ],
   "source": [
    "df.pivot(index=\"name\", columns=\"serialize\", values=\"mean\").index.rename(\"type\")"
   ]
  },
  {
   "cell_type": "code",
   "execution_count": null,
   "metadata": {},
   "outputs": [
    {
     "data": {
      "text/plain": [
       "<Axes: title={'center': 'Mean serialization/deserialization time for 100k messages'}, xlabel='name'>"
      ]
     },
     "execution_count": 117,
     "metadata": {},
     "output_type": "execute_result"
    },
    {
     "data": {
      "image/png": "[encoded data removed]",
      "text/plain": [
       "<Figure size 1000x500 with 1 Axes>"
      ]
     },
     "metadata": {},
     "output_type": "display_data"
    }
   ],
   "source": [
    "def show_plot_res():\n",
    "    return (\n",
    "        df\n",
    "        .loc[lambda df_: df_[\"name\"] != \"pyrobuf\"]\n",
    "        .pivot(index=\"name\", columns=\"serialize\", values=\"mean\")\n",
    "        .rename(columns={True: \"serialize\", False: \"deserialize\"})\n",
    "        .rename_axis(columns={\"serialize\": \"type\"})\n",
    "        .plot.bar(\n",
    "            title=\"Mean serialization/deserialization time for 100k messages\",\n",
    "            figsize=(10, 5),\n",
    "        )\n",
    "    )\n",
    "\n",
    "show_plot_res()"
   ]
  },
  {
   "cell_type": "code",
   "execution_count": 66,
   "metadata": {},
   "outputs": [
    {
     "data": {
      "text/plain": [
       "<Axes: title={'center': 'Mean serialization time for 100k messages'}, xlabel='name'>"
      ]
     },
     "execution_count": 66,
     "metadata": {},
     "output_type": "execute_result"
    },
    {
     "data": {
      "image/png": "[encoded data removed]",
      "text/plain": [
       "<Figure size 640x480 with 1 Axes>"
      ]
     },
     "metadata": {},
     "output_type": "display_data"
    }
   ],
   "source": [
    "df.loc[df[\"serialize\"]].plot.bar(x=\"name\", y=\"mean\", title=\"Mean serialization time for 100k messages\")"
   ]
  },
  {
   "cell_type": "code",
   "execution_count": null,
   "metadata": {},
   "outputs": [],
   "source": []
  }
 ],
 "metadata": {
  "kernelspec": {
   "display_name": ".venv",
   "language": "python",
   "name": "python3"
  },
  "language_info": {
   "codemirror_mode": {
    "name": "ipython",
    "version": 3
   },
   "file_extension": ".py",
   "mimetype": "text/x-python",
   "name": "python",
   "nbconvert_exporter": "python",
   "pygments_lexer": "ipython3",
   "version": "3.13.1"
  }
 },
 "nbformat": 4,
 "nbformat_minor": 2
}
